{
 "cells": [
  {
   "cell_type": "code",
   "execution_count": 1,
   "metadata": {},
   "outputs": [],
   "source": [
    "import numpy as np\n",
    "# from tqdm import tqdm"
   ]
  },
  {
   "cell_type": "markdown",
   "metadata": {},
   "source": [
    "### Get Vocab"
   ]
  },
  {
   "cell_type": "code",
   "execution_count": 2,
   "metadata": {},
   "outputs": [],
   "source": [
    "import pandas as pd\n",
    "import re\n",
    "\n",
    "from nltk.corpus import stopwords\n",
    "from collections import Counter"
   ]
  },
  {
   "cell_type": "code",
   "execution_count": 3,
   "metadata": {},
   "outputs": [
    {
     "name": "stdout",
     "output_type": "stream",
     "text": [
      "(1483, 5)\n",
      "(933, 5)\n",
      "(928, 5)\n"
     ]
    }
   ],
   "source": [
    "# tags = ['economia','mundo','peru']\n",
    "\n",
    "df1 = pd.read_csv('data/2021-02-03-news.csv')\n",
    "df2 = pd.read_csv('data/2021-02-04-news.csv')\n",
    "df3 = pd.read_csv('data/2021-02-05-news.csv')\n",
    "df4 = pd.read_csv('data/2021-02-06-news.csv')\n",
    "df5 = pd.read_csv('data/2021-02-07-news.csv')\n",
    "df6 = pd.read_csv('data/2021-02-08-news.csv')\n",
    "df7 = pd.read_csv('data/2021-02-09-news.csv')\n",
    "df8 = pd.read_csv('data/2021-02-10-news.csv')\n",
    "df9 = pd.read_csv('data/2021-02-11-news.csv')\n",
    "\n",
    "dfx = pd.concat([df1,df2,df3,df4,df5,df6,df7,df8,df9])\n",
    "dfx = dfx.iloc[:,1:]\n",
    "print(dfx.shape)\n",
    "dfx = dfx.drop_duplicates()\n",
    "print(dfx.shape)\n",
    "# dfx = dfx[dfx.topic.isin(tags)]\n",
    "# print(dfx.shape)\n",
    "dfx = dfx[~dfx.text.isnull()]\n",
    "print(dfx.shape)\n",
    "dfx = dfx.reset_index(drop=True)"
   ]
  },
  {
   "cell_type": "code",
   "execution_count": 12,
   "metadata": {},
   "outputs": [],
   "source": [
    "dfx.to_csv('data/noticias.csv', index=False)"
   ]
  },
  {
   "cell_type": "code",
   "execution_count": 4,
   "metadata": {},
   "outputs": [],
   "source": [
    "from bm25 import BM25\n",
    "import unicodedata\n",
    "import six\n",
    "from nltk import word_tokenize\n",
    "import io"
   ]
  },
  {
   "cell_type": "code",
   "execution_count": 5,
   "metadata": {},
   "outputs": [],
   "source": [
    "def normalize_terms(terms):\n",
    "    return [remove_diacritics(term).lower() for term in terms]\n",
    "\n",
    "def remove_diacritics(text, encoding='utf8'):\n",
    "    nfkd_form = unicodedata.normalize('NFKD', to_unicode(text, encoding))\n",
    "    only_ascii = nfkd_form.encode('ASCII', 'ignore')\n",
    "    return only_ascii.decode(encoding)\n",
    "\n",
    "def to_unicode(text, encoding='utf8'):\n",
    "    if isinstance(text, six.text_type):\n",
    "        return text\n",
    "    return text.decode(encoding)"
   ]
  },
  {
   "cell_type": "code",
   "execution_count": 9,
   "metadata": {},
   "outputs": [],
   "source": [
    "def do_bm25(query, df, best_n=3):\n",
    "\n",
    "    query = normalize_terms(word_tokenize(query))\n",
    "\n",
    "#     text_lines_total = []\n",
    "#     for file_i in files:\n",
    "\n",
    "#         fo = open(file_i, \"r\",encoding='utf-16')\n",
    "#         text_lines = fo.readlines()\n",
    "\n",
    "#         text_lines_total.extend(text_lines)\n",
    "\n",
    "    text_lines_total = df.text.values\n",
    "\n",
    "#     text_lines_tokens = [word_tokenize(tx_line) for tx_line in text_lines_total]\n",
    "\n",
    "    text_lines_tokens = []\n",
    "    for title in text_lines_total:\n",
    "        \n",
    "        title = re.sub(r'\\W',' ', title) # matches any non-word character \n",
    "        title = re.sub(r'\\s+',' ', title) # matches any whitespace character \n",
    "#         title = re.sub(r'\\d+',' ', title) # matches a digit\n",
    "        title = title.replace('  ', ' ')\n",
    "        title = title.replace('   ', ' ')\n",
    "#         title = title.replace('    ', ' ')\n",
    "#         title = title.replace('     ', ' ')\n",
    "        \n",
    "        tx_line = word_tokenize(title)\n",
    "        text_lines_tokens.append(tx_line)\n",
    "    \n",
    "    \n",
    "#     print(\"amount of contexts: \", len(text_lines_tokens))\n",
    "\n",
    "    news = [normalize_terms(sentence) for sentence in text_lines_tokens]\n",
    "    bm25 = BM25(news)\n",
    "    best_indexes = bm25.ranked(query, best_n)\n",
    "\n",
    "    best_sentences = []\n",
    "\n",
    "    for ind in best_indexes:\n",
    "        sentence_found = text_lines_total[ind]\n",
    "#         sentence_found = sentence_found.encode(\"ascii\", \"ignore\").decode()\n",
    "        best_sentences.append(sentence_found)\n",
    "\n",
    "    return best_sentences #, text_lines_tokens, best_indexes #, news"
   ]
  },
  {
   "cell_type": "code",
   "execution_count": 11,
   "metadata": {},
   "outputs": [
    {
     "name": "stdout",
     "output_type": "stream",
     "text": [
      "amount of contexts:  928\n"
     ]
    },
    {
     "data": {
      "text/plain": [
       "['“Mañana mismo se inicia el proceso con la vacunación del presidente, estamos contentos, nos devuelve la esperanza de enfrentar la crisis sanitaria”, refirió la coordinadora del equipo de vacunación del Ministerio de Salud, Nancy Olivares. Precisó -en diálogo con América Noticias- que junto al mandatario se vacunará en este primer tramo al personal representativo de salud que se encuentra en la primera línea y a los vacunadores. Dijo que se tomó la decisión de que se al mandatario la primera persona en recibir la vacuna para motivar a la población a que también lo haga y demostrar que la vacuna es segura y eficaz. Mientras que la ministra de Salud, Pilar Mazzetti, será una de las últimas en ser vacunadas dentro del personal de salud. “Ha decidido ser una de las ultimas en ser vacunada, decidió que primero sea el personal de salud, nosotros somos administrativos, es un gesto de desprendimiento, vamos a priorizar al personal de mayor vulnerabilidad”, apuntó. Explicó que con las 300,000 vacunas del laboratorio chino Sinopharm que llegaron anoche se vacunarán en un primer tramo al personal sanitario de cuidados intensivos, laboratorios, hospitalización y aquellos vinculados a la atención directa de la pandemia. En un segundo tramo, tras la llegada del nuevo lote de vacunas, se vacunarán al resto del personal de salud. Ayer llegó al país el primer lote de 300,000 dosis de vacuna que serán distribuidos en todo el país para dar inicio a la jornada de vacunación. ',\n",
       " 'El Ministerio de Salud (Minsa) aprobó este lunes el Padrón Nacional de Vacunación Universal para la primera fase de inmunización contra el coronavirus (COVID-19). Esta primera etapa contempla la vacunación del personal de salud que está en la primera línea de atención de pacientes de esta enfermedad. La resolución Nº 183-2021/Minsa incluirá como anexo el Padrón Nacional con las personas que recibirán las primeras dosis de la vacuna desarrollada por Sinopharm, la cual arribó a nuestro país el último domingo por la noche. “El Padrón Nacional es actualizado con la información proporcionada por los titulares de banco de datos hasta la integración del total de beneficiarios correspondientes a dicha Fase”, se lee en el documento. “La Oficina General de Tecnologías de la Información adopta las medidas necesarias para garantizar que el Padrón Nacional de Vacunación Universal contra la COVID-19 - Fase I aprobado en el artículo 1 de la presente Resolución Ministerial, no sea modificado o alterado, así como para garantizar la seguridad de los datos personales que contiene”, agrega la norma. En el portal del Ministerio de Salud figura que en la primera fase de vacunación se priorizará al personal de salud, administrativo, de seguridad, limpieza, entre otros, que forman parte de la primera línea de atención contra la COVID-19 y que laboran en el Ministerio de Salud, EsSalud, SISOL, Sanidades de las Fuerzas Armadas y de la Policía Nacional, así como del sector privado (clínicas). A ellos se sumarán el personal de las Fuerzas Armadas, Policía Nacional del Perú, Bomberos, Cruz Roja, serenazgo, brigadistas, estudiantes de la salud y miembros de las Mesas Electorales. Este lunes 8 de febrero se iniciará la distribución de las 300,000 dosis de la vacuna del laboratorio chino de Sinopharm, que llegaron al Perú el domingo, en Lima y Callao, a fin de proteger al personal de las áreas críticas que combate la pandemia. Serán las Fuerzas Armadas quienes se encargarán de la distribución de las vacunas a nivel nacional, para ello han dispuesto 33 aeronaves, 15 helicópteros y 18 aviones, según informó la titular del Ministerio de Defensa, Nuria Esparch. Cabe indicar que, en esta primera etapa la vacunación es nominal. Es decir, cada dosis lleva el nombre del personal de salud que la recibirá. La ministra de Salud, Pilar Mazzetti, ha anunciado que el presidente Francisco Sagasti, será el primer peruano en recibir la dosis de la vacuna.',\n",
       " 'En el marco de la vacunación contra el coronavirus (COVID-19), el doctor Elmer Huerta advirtió que la Organización Mundial de la Salud (OMS) no recomienda el uso de guantes al momento de aplicar vacunas intramusculares o subcutáneas, debido a que es menos higiénico. Durante su bloque de información médica en América Noticias, el especialista en salud pública mostró su preocupación por el uso de estos implementos durante el proceso de inoculación en el Perú, el cual inició el último martes. “Estaba viendo los videos del proceso de vacunación y observé que el personal que ponía vacunas tenía guantes, ¿esos guantes los cambia, les dura cuántas horas? La OMS dice que para inyecciones intramusculares y subcutáneas no se deben usar guantes, porque es más sucio que limpio, porque estos guantes tocan el sudor de todas las personas. Espero que esto se regularice, como fue ayer en la vacunación del presidente. Lo que se debe usar es el alcohol luego de cada aplicación”, aseveró. La OMS y el Consejo Internacional de Enfermería indican que “los guantes no son usualmente necesarios cuando está inyectando” y precisan que los guantes desechables pueden ser usados para inyectar solo “si se prevé un sangrado excesivo”. En un recorrido efectuado esta mañana por fotógrafos de este diario, se constató que durante el proceso de vacunación en el Instituto Nacional Materno Perinatal de Lima muchas enfermeras empleaban guantes al momento de aplicar la primera dosis al personal de salud.   En la víspera, durante la vacunación a la que se sometió el presidente Francisco Sagasti, se explicó que el uso de guantes desechables no es necesario si se cuenta con elementos de desinfección como agua y jabón o alcohol. “El uso de guantes se hace mayormente cuando hacemos vacunas en el campo, es decir donde no hay donde agua y jabón para lavarse las manos ;y los guantes de desechan”, explicó la responsable de la vacunación en el evento de anoche en la sede del Hospital Militar Central. Este diario se comunicó con el Ministerio de Salud y con Essalud para obtener su versión sobre los protocolos de vacunación, pero hasta el cierre de esta nota no se obtuvo respuesta.   El doctor Huerta también explicó que existen diferentes estrategias para la aplicación de la vacuna. Una en la que se destina cada lote de vacunas de manera nominal para asegurar la aplicación de las dos dosis de la vacuna en los plazos establecidos. Mientras que otros planes proponen que se inmunice a la mayor cantidad de personas con la primera aplicación, dado que la separación entre ambas dosis puede ser mayor a la recomendada. “Hay estudios que indican que que la segunda dosis puede ser 12 semanas después de la primera, tenemos datos adicionales de que las personas que tuvieron la segunda dosis en 12 semanas tuvieron éxito, eso se ve en estudios de la vacuna de Astrazeneca. No hay estudios hasta el momento para la vacuna de Sinopharm, pero en Estados Unidos se está considerando aplicar esa estrategia para las vacunas de Pfizer y Moderna, las cuales también recomiendan aplicar la segunda dosis luego de 21 a 28 días en sus protocolos”, sostuvo.',\n",
       " 'Chile inició el miércoles un plan de vacunación masiva contra el coronavirus con el objetivo de inmunizar a unos cinco millones de personas de grupos prioritarios en el primer trimestre, un año después de iniciada la pandemia en el país. Las inoculaciones arrancaron en Chile en la víspera de Navidad con la vacuna de Pfizer/BioNTech aplicada a trabajadores de la salud de unidades de pacientes críticos y el país se convirtió en uno de los primeros de la región en aplicarlas. A partir del miércoles el proceso se ampliará al resto de la población prioritaria de adultos mayores y funcionarios públicos esenciales, entre otros, después de que la semana pasada llegaron a Chile casi cuatro millones de dosis de la vacuna de la china Sinovac, recientemente autorizada por los reguladores locales para su uso de emergencia.  Otros seis millones de dosis llegarán durante febrero, dijo el presidente Sebastián Piñera temprano el miércoles en uno de los 1.400 locales de vacunación habilitados en todo el país. “Esto nos permite iniciar con seguridad este proceso de vacunación masiva a toda nuestra población”, dijo el presidente. Durante el primer semestre, agregó Piñera, llegarán cerca de seis millones adicionales de vacunas de Pfizer y alrededor de cuatro millones de la vacuna de AstraZeneca/Oxford, que también fue autorizada hace poco tiempo. El objetivo del gobierno chileno es que a mediados de año esté vacunada la población objetivo de unos 15 millones de personas, sobre una población total de casi 19 millones de habitantes. El gobierno ha reconocido que es un proceso “ambicioso”. Chile también tiene un acuerdo previo para comprar 4 millones de dosis de la vacuna Johnson &amp; Johnson y está suscrito al esquema de distribución global COVAX.  ',\n",
       " 'Recibida primero con escepticismo, la vacuna rusa contra el COVID-19 Sputnik V ha convencido desde entonces sobre su eficacia a los expertos, según la revista especializada The Lancet. Un éxito científico y político para la Rusia de Vladimir Putin. Putin en la vanguardia Desde las primeras semanas de la pandemia, el presidente ruso ordena al aparato científico, político y militar lanzarse a la batalla para que Rusia sea la primera en desarrollar una vacuna. Para ello, las autoridades rusas están listas a tomar atajos. En la primavera boreal del 2020, el director del instituto de investigación Gamaleya, Alexander Guintsburg se jacta de haber desarrollado el producto. Él mismo se inyectó una versión experimental de lo que se convertiría en la Sputnik V. El 11 de agosto, Putin anuncia la homologación de la primera vacuna anti-coronavirus en el mundo, una proclamación recibida con escepticismo en el extranjero, ya que solo ha sido probada en algunas decenas de militares. En realidad, incluso antes de los ensayos de Fase 3 con decenas de miles de voluntarios, la élite rusa ya disponía del producto, como ocurrió con una de las hijas de Putin. La vacunación de la población comenzó en diciembre del 2020, en el mismo momento en que Europa y Estados Unidos distribuían las primeras vacunas desarrolladas por sus firmas farmacéuticas. Ambiciones Para el Kremlin, la vacuna demuestra la excelencia de una Rusia despreciada y sancionada por Occidente. Putin califica a la Sputnik V como la “mejor vacuna del mundo”. La elección del nombre es altamente simbólico. Es un homenaje al primer satélite del mundo, lanzado por la Unión Soviética en 1957, y recuerda una proeza científica y una dura derrota para el archienemigo Estados Unidos. Se trata también del regreso de la investigación rusa a la élite científica mundial. Este sector había resultado muy afectado por las crisis y la corrupción desde la caída de la URSS. Rusia demostró rápidamente su voluntad de distribuir la vacuna en el mundo, para probar que sabía hacer más que exportar armas, minerales e hidrocarburos. La Sputnik V fue homologada en más de quince países: desde vecinos exsoviéticos como Bielorrusia o Armenia hasta aliados como Venezuela e Irán, pero también en Corea del Sur, Argentina, Argelia, Túnez y Pakistán. ¿La Sputnik V en Europa? La vacuna rusa fue tratada durante mucho tiempo con desconfianza por el apuro ruso y la ausencia de datos científicos publicados. El fondo soberano ruso, que participó en el desarrollo de la Sputnik V, anunció el 20 de enero haber iniciado el procedimiento de homologación ante la Agencia Europea de Medicamentos (EMA). La Hungría de Viktor Orban lo hizo de manera separada, denunciando la lentitud europea. La canciller alemana Angela Merkel propuso una ayuda alemana para este procedimiento europeo y una posible “producción conjunta”. ¿Qué capacidad de producción? Rusia dice haber recibido pedidos por más de mil millones de dosis, pero no está en condiciones de satisfacer semejante demanda. Ninguna fuente oficial ha dicho con claridad cuántas dosis se han fabricado o distribuido hasta el momento. La autoridades solo han hablado de 1.5 millones de inyecciones en todo el mundo hasta mediados de enero. Los envíos al extranjero son a menudo simbólicos (20,000 dosis a Bolivia, por ejemplo). En algunos casos no ha sido revelado. Argentina informó de los primeros retrasos, tras haber encargado 19.4 millones de dosis hasta fines de febrero. Más que exportar, Moscú quiere en realidad desarrollar proyectos de cooperación para producir la vacuna en fábricas locales. Por el momento, Kazajistán, India, Corea del Sur y Brasil producen la Sputnik V. Pero no todos la utilizan aún. Otras vacunas rusas Se esperan al menos tres vacunas más anti-COVID en Rusia en los próximos meses. La Sputnik V, vacuna de vector viral en dos inyecciones, tendrá una versión “light”, de una sola dosis. Durante febrero está previsto el lanzamiento de la producción masiva de la vacuna EpiVacCorona, que fue desarrollada por el laboratorio estatal Vektor. Según el gobierno ruso una tercera vacuna tiene que ser homologada: la CoviVac del instituto Shumakov, también estatal. Por último, el laboratorio AstraZeneca y los inventores de la Sputnik V han dicho que trabajan para combinar sus respectivas vacunas.']"
      ]
     },
     "execution_count": 11,
     "metadata": {},
     "output_type": "execute_result"
    }
   ],
   "source": [
    "# do_bm25('quién es el presidente del Perú', dfx, 5)\n",
    "do_bm25('cuántas vacunas ya llegaron al Perú?', dfx, 5)"
   ]
  },
  {
   "cell_type": "code",
   "execution_count": null,
   "metadata": {},
   "outputs": [],
   "source": []
  }
 ],
 "metadata": {
  "kernelspec": {
   "display_name": "nlp",
   "language": "python",
   "name": "nlp"
  },
  "language_info": {
   "codemirror_mode": {
    "name": "ipython",
    "version": 3
   },
   "file_extension": ".py",
   "mimetype": "text/x-python",
   "name": "python",
   "nbconvert_exporter": "python",
   "pygments_lexer": "ipython3",
   "version": "3.6.12"
  }
 },
 "nbformat": 4,
 "nbformat_minor": 4
}
